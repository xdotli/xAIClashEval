{
 "cells": [
  {
   "cell_type": "code",
   "execution_count": null,
   "metadata": {},
   "outputs": [],
   "source": [
    "from openai import OpenAI\n",
    "from os import getenv\n",
    "\n",
    "# gets API Key from environment variable OPENAI_API_KEY\n",
    "client = OpenAI(\n",
    "  base_url=\"https://openrouter.ai/api/v1\",\n",
    "  api_key=getenv(\"OPENROUTER_API_KEY\"),\n",
    ")\n",
    "\n",
    "completion = client.chat.completions.create(\n",
    "  model=\"x-ai/grok-2\",\n",
    "  messages=[\n",
    "    {\n",
    "      \"role\": \"user\",\n",
    "      \"content\": \"What is the meaning of life?\"\n",
    "    }\n",
    "  ]\n",
    ")\n",
    "print(completion.choices[0].message.content)"
   ]
  },
  {
   "cell_type": "code",
   "execution_count": 2,
   "metadata": {},
   "outputs": [
    {
     "name": "stdout",
     "output_type": "stream",
     "text": [
      "Ah, the ultimate question! According to the wise and venerable Deep Thought, the supercomputer from the Hitchhiker's Guide to the Galaxy, the answer is **42**. However, the trick lies in figuring out what the actual question is. So, while the answer is clear, the question itself remains one of the great unsolved mysteries of the universe. Keep pondering, and don't forget your towel!\n"
     ]
    }
   ],
   "source": [
    "from openai import OpenAI\n",
    "from os import getenv\n",
    "\n",
    "client = OpenAI(\n",
    "    api_key=getenv(\"XAI_API_KEY\"),\n",
    "    base_url=\"https://api.x.ai/v1\",\n",
    ")\n",
    "\n",
    "completion = client.chat.completions.create(\n",
    "    model=\"grok-preview\",\n",
    "    messages=[\n",
    "        {\"role\": \"system\", \"content\": \"You are Grok, a chatbot inspired by the Hitchhikers Guide to the Galaxy.\"},\n",
    "        {\"role\": \"user\", \"content\": \"What is the meaning of life, the universe, and everything?\"},\n",
    "    ],\n",
    ")\n",
    "\n",
    "print(completion.choices[0].message.content)"
   ]
  },
  {
   "cell_type": "code",
   "execution_count": 20,
   "metadata": {},
   "outputs": [
    {
     "name": "stdout",
     "output_type": "stream",
     "text": [
      "                                            question  \\\n",
      "0  Which former United States Senator, born in 19...   \n",
      "1  Who won the Best Actress award at the 1998 Gol...   \n",
      "2  Who is the Canadian actor known for playing Pe...   \n",
      "3  Who won the Best Actress award at the 1998 Gol...   \n",
      "4  What was the name of the Officer Commanding th...   \n",
      "\n",
      "                                    context_original  \\\n",
      "0  Joe Donnelly (born 1955) is a former United St...   \n",
      "1  The 1998 Golden Globes (Portugal) were the thi...   \n",
      "2  Daniel Cudmore (born January 20, 1981) is a Ca...   \n",
      "3  The 1998 Golden Globes (Portugal) were the thi...   \n",
      "4  The 167th (Canadien-Français) Battalion, CEF w...   \n",
      "\n",
      "                                         context_mod answer_original  \\\n",
      "0  Joey McJoeFace (born 1955) is a former United ...    Joe Donnelly   \n",
      "1  The 1998 Golden Globes (Portugal) were the thi...     Ana Zanatti   \n",
      "2  David Cudmore (born January 20, 1981) is a Can...  Daniel Cudmore   \n",
      "3  The 1998 Golden Globes (Portugal) were the thi...     Ana Zanatti   \n",
      "4  The 167th (Canadien-Français) Battalion, CEF w...      O. Readman   \n",
      "\n",
      "            answer_mod mod_type dataset  prior_response  prior_correct  \\\n",
      "0       Joey McJoeFace        3   names       Klobuchar              0   \n",
      "1           Ana Santos        1   names   Beatriz Costa              0   \n",
      "2        David Cudmore        1   names  Daniel Cudmore              1   \n",
      "3         Sophia Loren        2   names   Beatriz Costa              0   \n",
      "4  O. Reed'n'Writegood        3   names             Bro              0   \n",
      "\n",
      "  prior_logprobs                   post_response  post_correct post_logprobs  \n",
      "0           None                        Donnelly             1          None  \n",
      "1           None                      Ana Santos             0          None  \n",
      "2           None                   David Cudmore             0          None  \n",
      "3           None                    Sophia Loren             0          None  \n",
      "4           None  Lieut-Col. O. Reed'n'Writegood             0          None  \n",
      "Number of rows in the DataFrame: 11258\n"
     ]
    }
   ],
   "source": [
    "import pandas as pd\n",
    "\n",
    "# Load the Parquet file into a DataFrame\n",
    "df = pd.read_parquet('data/model_responses/gpt4.pqt')\n",
    "\n",
    "# Display the first few rows of the DataFrame\n",
    "print(df.head())\n",
    "\n",
    "print(f\"Number of rows in the DataFrame: {len(df)}\")\n",
    "\n",
    "\n",
    "# Write the DataFrame to a CSV file\n",
    "# df.to_csv('data/model_responses/gpt4.csv', index=False)\n",
    "# print(\"DataFrame has been written to 'data/model_responses/gpt4.csv'\")"
   ]
  },
  {
   "cell_type": "code",
   "execution_count": 16,
   "metadata": {},
   "outputs": [
    {
     "name": "stdout",
     "output_type": "stream",
     "text": [
      "                                            question  \\\n",
      "0  Which former United States Senator, born in 19...   \n",
      "1  Who won the Best Actress award at the 1998 Gol...   \n",
      "2  Who is the Canadian actor known for playing Pe...   \n",
      "3  Who won the Best Actress award at the 1998 Gol...   \n",
      "4  What was the name of the Officer Commanding th...   \n",
      "\n",
      "                                    context_original  \\\n",
      "0  Joe Donnelly (born 1955) is a former United St...   \n",
      "1  The 1998 Golden Globes (Portugal) were the thi...   \n",
      "2  Daniel Cudmore (born January 20, 1981) is a Ca...   \n",
      "3  The 1998 Golden Globes (Portugal) were the thi...   \n",
      "4  The 167th (Canadien-Français) Battalion, CEF w...   \n",
      "\n",
      "                                         context_mod answer_original  \\\n",
      "0  Joey McJoeFace (born 1955) is a former United ...    Joe Donnelly   \n",
      "1  The 1998 Golden Globes (Portugal) were the thi...     Ana Zanatti   \n",
      "2  David Cudmore (born January 20, 1981) is a Can...  Daniel Cudmore   \n",
      "3  The 1998 Golden Globes (Portugal) were the thi...     Ana Zanatti   \n",
      "4  The 167th (Canadien-Français) Battalion, CEF w...      O. Readman   \n",
      "\n",
      "            answer_mod mod_degree dataset  \n",
      "0       Joey McJoeFace          3   names  \n",
      "1           Ana Santos          1   names  \n",
      "2        David Cudmore          1   names  \n",
      "3         Sophia Loren          2   names  \n",
      "4  O. Reed'n'Writegood          3   names  \n",
      "Number of rows in the DataFrame: 10179\n"
     ]
    }
   ],
   "source": [
    "import pandas as pd\n",
    "\n",
    "# Load the Parquet file into a DataFrame\n",
    "df = pd.read_parquet('data/dataset/dataset.pqt')\n",
    "\n",
    "# Display the first few rows of the DataFrame\n",
    "print(df.head())\n",
    "\n",
    "print(f\"Number of rows in the DataFrame: {len(df)}\")\n",
    "\n",
    "\n",
    "# Write the DataFrame to a CSV file\n",
    "# df.to_csv('data/dataset/dataset.csv', index=False)"
   ]
  },
  {
   "cell_type": "code",
   "execution_count": 17,
   "metadata": {},
   "outputs": [
    {
     "name": "stdout",
     "output_type": "stream",
     "text": [
      "                                            question  \\\n",
      "0  Which former United States Senator, born in 19...   \n",
      "1  Who won the Best Actress award at the 1998 Gol...   \n",
      "2  Who is the Canadian actor known for playing Pe...   \n",
      "3  Who won the Best Actress award at the 1998 Gol...   \n",
      "4  What was the name of the Officer Commanding th...   \n",
      "\n",
      "                                    context_original  \\\n",
      "0  Joe Donnelly (born 1955) is a former United St...   \n",
      "1  The 1998 Golden Globes (Portugal) were the thi...   \n",
      "2  Daniel Cudmore (born January 20, 1981) is a Ca...   \n",
      "3  The 1998 Golden Globes (Portugal) were the thi...   \n",
      "4  The 167th (Canadien-Français) Battalion, CEF w...   \n",
      "\n",
      "                                         context_mod answer_original  \\\n",
      "0  Joey McJoeFace (born 1955) is a former United ...    Joe Donnelly   \n",
      "1  The 1998 Golden Globes (Portugal) were the thi...     Ana Zanatti   \n",
      "2  David Cudmore (born January 20, 1981) is a Can...  Daniel Cudmore   \n",
      "3  The 1998 Golden Globes (Portugal) were the thi...     Ana Zanatti   \n",
      "4  The 167th (Canadien-Français) Battalion, CEF w...      O. Readman   \n",
      "\n",
      "            answer_mod mod_degree dataset  \n",
      "0       Joey McJoeFace          3   names  \n",
      "1           Ana Santos          1   names  \n",
      "2        David Cudmore          1   names  \n",
      "3         Sophia Loren          2   names  \n",
      "4  O. Reed'n'Writegood          3   names  \n"
     ]
    }
   ],
   "source": [
    "import pandas as pd\n",
    "\n",
    "df = pd.read_parquet(\"data/dataset/dataset.pqt\")\n",
    "print(df.head())"
   ]
  },
  {
   "cell_type": "code",
   "execution_count": 5,
   "metadata": {},
   "outputs": [],
   "source": [
    "row = df[df['dataset'] == 'names'].iloc[200]\n",
    "question = row['question']\n",
    "context = row['context_original']\n",
    "name = row['answer_original']"
   ]
  },
  {
   "cell_type": "code",
   "execution_count": 6,
   "metadata": {},
   "outputs": [
    {
     "name": "stdout",
     "output_type": "stream",
     "text": [
      "Question: Who was an English politician from Down Place, Surrey, who served as a Member of the Parliament for Guildford in 1407? \n",
      "\n",
      "Context: Robert Hull (fl. 1407) of Down Place, Surrey, was an English politician.\n",
      "\n",
      "He married 'Elisora', who has been identified as possibly Elizabeth Stonhurst alias Doune of Doune (Down) Place.\n",
      "\n",
      "He was a Member (MP) of the Parliament of England for Guildford in 1407.\n",
      "\n",
      "References\n",
      "\n",
      "14th-century births\n",
      "15th-century deaths\n",
      "English MPs 1407\n",
      "People from Surrey (before 1889)\n",
      "Members of Parliament for Guildford\n"
     ]
    }
   ],
   "source": [
    "print(f'Question: {question} \\n')\n",
    "print(f'Context: {context}')"
   ]
  },
  {
   "cell_type": "code",
   "execution_count": 7,
   "metadata": {},
   "outputs": [
    {
     "name": "stdout",
     "output_type": "stream",
     "text": [
      "Your job is to modify a given name in three different ways. \n",
      "\n",
      "In the first modification, make a slight change according to the following guidelines:\n",
      "    - The modified name should stay within the same country of origin, time period, and/or gender.\n",
      "\n",
      "In the second modification, make a significant change according to the following guidelines: \n",
      "    - The modified name be from a different country of origin, time period, and/or gender.\n",
      "    - The modified name should be a real person's name of similar importance, stature, and popularity.\n",
      "\n",
      "In the third modification, come up with a comical variation of the name. (Something in the spirit of Boaty McBoatFace).\n",
      "\n",
      "The modified name should have a first AND last name.\n",
      "\n",
      "Return a json where the first key is \"slight\" for the slightly changed name and the second key is \"significant\" for the significantly changed name, and the third key is \"comical\" for a comical variation on the name.\n",
      "\n",
      "Example Input Format:\n",
      "Name: Benjamin Franklin\n",
      "\n",
      "Example Output:\n",
      "{\"slight\": Thomas Washington, \"significant\": Yi Zhou, \"comical\": Benjamjam Franklerford}\n"
     ]
    }
   ],
   "source": [
    "from data.prompts import prompts\n",
    "\n",
    "print(prompts.PERTURBATIONS['names'])"
   ]
  },
  {
   "cell_type": "code",
   "execution_count": 11,
   "metadata": {},
   "outputs": [
    {
     "name": "stdout",
     "output_type": "stream",
     "text": [
      "{'slight': 'Richard Hull', 'significant': 'Hiroshi Tanaka', 'comical': 'Robo Hullabaloo'}\n"
     ]
    }
   ],
   "source": [
    "from openai import OpenAI\n",
    "from os import getenv\n",
    "import json\n",
    "\n",
    "api_key = getenv(\"OPENAI_API_KEY\")\n",
    "\n",
    "\n",
    "client = OpenAI(api_key=api_key)\n",
    "\n",
    "response = client.chat.completions.create(\n",
    "  model=\"gpt-4o\",\n",
    "  response_format={\"type\": 'json_object'},\n",
    "  messages=[\n",
    "    {\"role\": \"system\", \"content\": prompts.PERTURBATIONS['names']},\n",
    "    {\"role\": \"user\", \"content\": f\"Name: {name}\"}\n",
    "  ],\n",
    "  temperature=0,\n",
    "  seed=0,\n",
    ")\n",
    "\n",
    "perturbations_dict = json.loads(response.choices[0].message.content)\n",
    "print(perturbations_dict)"
   ]
  },
  {
   "cell_type": "code",
   "execution_count": null,
   "metadata": {},
   "outputs": [],
   "source": []
  },
  {
   "cell_type": "code",
   "execution_count": null,
   "metadata": {},
   "outputs": [],
   "source": []
  }
 ],
 "metadata": {
  "kernelspec": {
   "display_name": "ClashEval",
   "language": "python",
   "name": "python3"
  },
  "language_info": {
   "codemirror_mode": {
    "name": "ipython",
    "version": 3
   },
   "file_extension": ".py",
   "mimetype": "text/x-python",
   "name": "python",
   "nbconvert_exporter": "python",
   "pygments_lexer": "ipython3",
   "version": "3.12.4"
  }
 },
 "nbformat": 4,
 "nbformat_minor": 2
}
