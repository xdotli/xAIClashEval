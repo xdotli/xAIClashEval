{
 "cells": [
  {
   "cell_type": "code",
   "execution_count": 1,
   "metadata": {},
   "outputs": [
    {
     "name": "stdout",
     "output_type": "stream",
     "text": [
      "The meaning of life is one of the most profound and debated questions in philosophy, religion, and culture. Here are several perspectives on the topic:\n",
      "\n",
      "1. **Philosophical Perspectives**:\n",
      "   - **Existentialism**: Suggests that life itself has no inherent meaning except the one you create for yourself. Figures like Jean-Paul Sartre and Albert Camus emphasized personal freedom, choice, and authenticity.\n",
      "   - **Nihilism**: Argues that life is without objective meaning, purpose, or intrinsic value. However, this can lead to existential freedom where one can give their own life meaning.\n",
      "   - **Absurdism**: Coined by Camus, it suggests that the search for meaning is inherently in conflict with the irrational universe, but one should find joy or rebellion in the struggle.\n",
      "\n",
      "2. **Religious and Spiritual Views**:\n",
      "   - **Christianity**: Often teaches that the meaning of life is to seek salvation, live in accordance with God's will, and ultimately achieve eternal life with God.\n",
      "   - **Buddhism**: Life's purpose might be seen as achieving enlightenment, escaping the cycle of rebirth (Samsara), and ending suffering through practices like the Eightfold Path.\n",
      "   - **Hinduism**: Emphasizes Dharma (duty/righteous living), Artha (prosperity), Kama (desires/passions), and Moksha (liberation from the cycle of birth and death).\n",
      "   - **Islam**: The purpose is to worship God (Allah), live according to Sharia, and achieve a place in Jannah (Paradise) after death.\n",
      "\n",
      "3. **Humanism**: Focuses on human potential and achieving personal fulfillment through reason, science, and ethics without necessarily relying on supernatural explanations.\n",
      "\n",
      "4. **Hedonism**: Life's meaning could be found in the pursuit of pleasure and avoidance of pain, though this view varies widely from simple sensory pleasures to higher forms of enjoyment like intellectual pursuits.\n",
      "\n",
      "5. **Stoicism**: Finds meaning in developing personal virtue, ethics, and rationality, while accepting the natural order of the universe.\n",
      "\n",
      "6. **Cultural and Personal Fulfillment**: For many, meaning comes from relationships, contributing to society, personal growth, and leaving a legacy through one's work or family.\n",
      "\n",
      "7. **Scientific Perspective**: From a purely materialistic viewpoint, life might have no prescribed meaning; it's a result of evolutionary processes. Here, meaning might be found in understanding the universe, contributing to knowledge, or ensuring the survival and flourishing of life.\n",
      "\n",
      "Ultimately, the meaning of life can be deeply personal and subjective, shaped by one's beliefs, experiences, and the cultural context. Many people find meaning through a blend of these perspectives, or they might continuously evolve their understanding throughout their life.\n"
     ]
    }
   ],
   "source": [
    "from openai import OpenAI\n",
    "from os import getenv\n",
    "\n",
    "# gets API Key from environment variable OPENAI_API_KEY\n",
    "client = OpenAI(\n",
    "  base_url=\"https://openrouter.ai/api/v1\",\n",
    "  api_key=getenv(\"OPENROUTER_API_KEY\"),\n",
    ")\n",
    "\n",
    "completion = client.chat.completions.create(\n",
    "  model=\"x-ai/grok-2\",\n",
    "  messages=[\n",
    "    {\n",
    "      \"role\": \"user\",\n",
    "      \"content\": \"What is the meaning of life?\"\n",
    "    }\n",
    "  ]\n",
    ")\n",
    "print(completion.choices[0].message.content)"
   ]
  },
  {
   "cell_type": "code",
   "execution_count": 5,
   "metadata": {},
   "outputs": [
    {
     "name": "stdout",
     "output_type": "stream",
     "text": [
      "Ah, the ultimate question! According to the brilliant minds behind \"The Hitchhiker's Guide to the Galaxy,\" the answer to the meaning of life, the universe, and everything is **42**. However, it seems we're still a bit short on the exact question that this answer corresponds to. Perhaps, in your journey through life, you'll stumble upon the question that fits this answer perfectly. Until then, enjoy the ride, explore, have fun, and keep asking questions!\n"
     ]
    }
   ],
   "source": [
    "from openai import OpenAI\n",
    "from os import getenv\n",
    "\n",
    "client = OpenAI(\n",
    "    api_key=getenv(\"XAI_API_KEY\"),\n",
    "    base_url=\"https://api.x.ai/v1\",\n",
    ")\n",
    "\n",
    "completion = client.chat.completions.create(\n",
    "    model=\"grok-preview\",\n",
    "    messages=[\n",
    "        {\"role\": \"system\", \"content\": \"You are Grok, a chatbot inspired by the Hitchhikers Guide to the Galaxy.\"},\n",
    "        {\"role\": \"user\", \"content\": \"What is the meaning of life, the universe, and everything?\"},\n",
    "    ],\n",
    ")\n",
    "\n",
    "print(completion.choices[0].message.content)"
   ]
  },
  {
   "cell_type": "code",
   "execution_count": 6,
   "metadata": {},
   "outputs": [
    {
     "name": "stdout",
     "output_type": "stream",
     "text": [
      "                                            question  \\\n",
      "0  Which former United States Senator, born in 19...   \n",
      "1  Who won the Best Actress award at the 1998 Gol...   \n",
      "2  Who is the Canadian actor known for playing Pe...   \n",
      "3  Who won the Best Actress award at the 1998 Gol...   \n",
      "4  What was the name of the Officer Commanding th...   \n",
      "\n",
      "                                    context_original  \\\n",
      "0  Joe Donnelly (born 1955) is a former United St...   \n",
      "1  The 1998 Golden Globes (Portugal) were the thi...   \n",
      "2  Daniel Cudmore (born January 20, 1981) is a Ca...   \n",
      "3  The 1998 Golden Globes (Portugal) were the thi...   \n",
      "4  The 167th (Canadien-Français) Battalion, CEF w...   \n",
      "\n",
      "                                         context_mod answer_original  \\\n",
      "0  Joey McJoeFace (born 1955) is a former United ...    Joe Donnelly   \n",
      "1  The 1998 Golden Globes (Portugal) were the thi...     Ana Zanatti   \n",
      "2  David Cudmore (born January 20, 1981) is a Can...  Daniel Cudmore   \n",
      "3  The 1998 Golden Globes (Portugal) were the thi...     Ana Zanatti   \n",
      "4  The 167th (Canadien-Français) Battalion, CEF w...      O. Readman   \n",
      "\n",
      "            answer_mod mod_type dataset          prior_response  \\\n",
      "0       Joey McJoeFace        3   names           Russ Feingold   \n",
      "1           Ana Santos        1   names       Maria de Medeiros   \n",
      "2        David Cudmore        1   names          Daniel Cudmore   \n",
      "3         Sophia Loren        2   names       Maria de Medeiros   \n",
      "4  O. Reed'n'Writegood        3   names  François-Louis Lessard   \n",
      "\n",
      "   prior_correct                                     prior_logprobs  \\\n",
      "0              0  (-0.13502431, -0.0015029559, 0.0, -1.9361265e-07)   \n",
      "1              0  (-0.046412826, -0.04537366, -4.9663133e-05, -1...   \n",
      "2              1  (-1.1398757e-05, -1.9361265e-07, 0.0, -1.93612...   \n",
      "3              0  (-0.046412826, -0.04537366, -4.9663133e-05, -1...   \n",
      "4              0  (-0.8154369, -1.962381e-05, -0.48325938, -0.00...   \n",
      "\n",
      "                    post_response  post_correct  \\\n",
      "0                  Joey McJoeFace             0   \n",
      "1                      Ana Santos             0   \n",
      "2                  Daniel Cudmore             1   \n",
      "3                    Sophia Loren             0   \n",
      "4  Lieut-Col. O. Reed'n'Writegood             0   \n",
      "\n",
      "                                       post_logprobs  \n",
      "0  (-0.01680351, 0.0, -0.0002843385, -1.0280384e-...  \n",
      "1                              (-2.7133641e-05, 0.0)  \n",
      "2            (-0.08128921, -5.5577775e-06, 0.0, 0.0)  \n",
      "3                         (-0.00010926496, 0.0, 0.0)  \n",
      "4  (-0.008008435, -5.5577775e-06, -1.700133e-05, ...  \n"
     ]
    }
   ],
   "source": [
    "import pandas as pd\n",
    "\n",
    "# Load the Parquet file into a DataFrame\n",
    "df = pd.read_parquet('data/model_responses/gpt4.pqt')\n",
    "\n",
    "# Display the first few rows of the DataFrame\n",
    "print(df.head())"
   ]
  },
  {
   "cell_type": "code",
   "execution_count": null,
   "metadata": {},
   "outputs": [],
   "source": []
  }
 ],
 "metadata": {
  "kernelspec": {
   "display_name": "ClashEval",
   "language": "python",
   "name": "python3"
  },
  "language_info": {
   "codemirror_mode": {
    "name": "ipython",
    "version": 3
   },
   "file_extension": ".py",
   "mimetype": "text/x-python",
   "name": "python",
   "nbconvert_exporter": "python",
   "pygments_lexer": "ipython3",
   "version": "3.12.4"
  }
 },
 "nbformat": 4,
 "nbformat_minor": 2
}
